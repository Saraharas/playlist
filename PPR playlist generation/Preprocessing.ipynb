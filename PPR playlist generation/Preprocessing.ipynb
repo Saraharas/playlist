{
 "cells": [
  {
   "cell_type": "markdown",
   "metadata": {},
   "source": [
    "## Generate song index database"
   ]
  },
  {
   "cell_type": "markdown",
   "metadata": {},
   "source": [
    "### Get all tid of all songs"
   ]
  },
  {
   "cell_type": "code",
   "execution_count": null,
   "metadata": {
    "collapsed": false
   },
   "outputs": [],
   "source": [
    "import os\n",
    "import sys\n",
    "import sqlite3\n",
    "\n",
    "nodes = set()\n",
    "conn = sqlite3.connect(\"lastfm_similars.db\")\n",
    "with conn:\n",
    "    cur = conn.cursor()\n",
    "    cur.execute(\"SELECT tid, target FROM similars_src\")\n",
    "    while True:\n",
    "        song = cur.fetchone()\n",
    "        if not song:\n",
    "            break\n",
    "        nodes.add(song[0])\n",
    "        similars = song[1].split(\",\")\n",
    "        for i in range(0,len(similars),2):\n",
    "            nodes.add(similars[i])\n",
    "            #edges[(song[0],similars[i])] = float(similars[i+1])\n",
    "conn.close()\n",
    "nodes = list(nodes)"
   ]
  },
  {
   "cell_type": "markdown",
   "metadata": {},
   "source": [
    "### Store the song tid index in a new database "
   ]
  },
  {
   "cell_type": "code",
   "execution_count": null,
   "metadata": {
    "collapsed": false
   },
   "outputs": [],
   "source": [
    "N = len(nodes)\n",
    "index = dict(zip(nodes,range(N)))\n",
    "conn = sqlite3.connect(\"songs_index.db\")\n",
    "\n",
    "with conn:\n",
    "    cur =  conn.cursor()\n",
    "    cur.execute(\"DROP TABLE IF EXISTS Songs\")\n",
    "    cur.execute(\"CREATE TABLE Songs(tid TEXT, idx INT)\")\n",
    "    for k,v in index.items():\n",
    "        cur.execute(\"INSERT INTO Songs VALUES(?,?)\", (k,v))\n",
    "conn.close()"
   ]
  }
 ],
 "metadata": {
  "kernelspec": {
   "display_name": "Python 2",
   "language": "python",
   "name": "python2"
  },
  "language_info": {
   "codemirror_mode": {
    "name": "ipython",
    "version": 2
   },
   "file_extension": ".py",
   "mimetype": "text/x-python",
   "name": "python",
   "nbconvert_exporter": "python",
   "pygments_lexer": "ipython2",
   "version": "2.7.9"
  }
 },
 "nbformat": 4,
 "nbformat_minor": 0
}
