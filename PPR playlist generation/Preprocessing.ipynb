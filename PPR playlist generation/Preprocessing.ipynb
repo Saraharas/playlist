{
 "cells": [
  {
   "cell_type": "markdown",
   "metadata": {},
   "source": [
    "## Generate song index database, and Community partition dictionary"
   ]
  },
  {
   "cell_type": "markdown",
   "metadata": {},
   "source": [
    "### Get all tid of all songs"
   ]
  },
  {
   "cell_type": "code",
   "execution_count": null,
   "metadata": {
    "collapsed": false
   },
   "outputs": [],
   "source": [
    "import os\n",
    "import sys\n",
    "import sqlite3\n",
    "\n",
    "nodes = set()\n",
    "conn = sqlite3.connect(\"lastfm_similars.db\")\n",
    "with conn:\n",
    "    cur = conn.cursor()\n",
    "    cur.execute(\"SELECT tid, target FROM similars_src\")\n",
    "    while True:\n",
    "        song = cur.fetchone()\n",
    "        if not song:\n",
    "            break\n",
    "        nodes.add(song[0])\n",
    "        similars = song[1].split(\",\")\n",
    "        for i in range(0,len(similars),2):\n",
    "            nodes.add(similars[i])\n",
    "            #edges[(song[0],similars[i])] = float(similars[i+1])\n",
    "conn.close()\n",
    "nodes = list(nodes)"
   ]
  },
  {
   "cell_type": "markdown",
   "metadata": {},
   "source": [
    "### Store the song tid index in a new database "
   ]
  },
  {
   "cell_type": "code",
   "execution_count": null,
   "metadata": {
    "collapsed": false
   },
   "outputs": [],
   "source": [
    "N = len(nodes)\n",
    "index = dict(zip(nodes,range(N)))\n",
    "conn = sqlite3.connect(\"songs_index.db\")\n",
    "\n",
    "with conn:\n",
    "    cur =  conn.cursor()\n",
    "    cur.execute(\"DROP TABLE IF EXISTS Songs\")\n",
    "    cur.execute(\"CREATE TABLE Songs(tid TEXT, idx INT)\")\n",
    "    for k,v in index.iteritems():\n",
    "        cur.execute(\"INSERT INTO Songs VALUES(?,?)\", (k,v))\n",
    "conn.close()"
   ]
  },
  {
   "cell_type": "markdown",
   "metadata": {},
   "source": [
    "### Read edge index and write it into a text file for community detection"
   ]
  },
  {
   "cell_type": "code",
   "execution_count": null,
   "metadata": {
    "collapsed": true
   },
   "outputs": [],
   "source": [
    "conn = sqlite3.connect(\"lastfm_similars.db\")\n",
    "row,col,data=[],[],[]\n",
    "outFile = open('edges.txt','w')\n",
    "\n",
    "with conn:\n",
    "    cur = conn.cursor()\n",
    "    cur.execute(\"SELECT tid, target FROM similars_src\")\n",
    "    while True:\n",
    "        song = cur.fetchone()\n",
    "        if not song:\n",
    "            break\n",
    "        similars = song[1].split(\",\")\n",
    "        row_idx = index[song[0]]\n",
    "        for i in range(0,len(similars),2):\n",
    "            if float(similars[i+1]) >= 0.5:\n",
    "                ss = '%d,%d\\n' % (row_idx,index[similars[i]])\n",
    "                outFile.write(ss)\n",
    "conn.close()\n",
    "outFile.close()"
   ]
  },
  {
   "cell_type": "markdown",
   "metadata": {},
   "source": [
    "### Community Detection using Louvain Method"
   ]
  },
  {
   "cell_type": "code",
   "execution_count": 1,
   "metadata": {
    "collapsed": true
   },
   "outputs": [],
   "source": [
    "import community\n",
    "import networkx as nx\n",
    "\n",
    "G = nx.Graph()\n",
    "G.add_nodes_from(range(663234))\n",
    "\n",
    "inFile = open('edges.txt')\n",
    "for line in inFile:\n",
    "    fields = line.strip().split(',')\n",
    "    G.add_edge(int(fields[0]),int(fields[1]))\n",
    "inFile.close()\n",
    "\n",
    "# Compute the best partition\n",
    "partition = community.best_partition(G)\n",
    "# Store the partition dictionary to file\n",
    "outFile = open('partition.txt','w')\n",
    "for nid,com in partition.iteritems():\n",
    "    ss = '%d,%d\\n' % (nid,com)\n",
    "    outFile.write(ss)\n",
    "outFile.close()"
   ]
  },
  {
   "cell_type": "markdown",
   "metadata": {},
   "source": [
    "#### Number of communities"
   ]
  },
  {
   "cell_type": "code",
   "execution_count": 2,
   "metadata": {
    "collapsed": false
   },
   "outputs": [
    {
     "data": {
      "text/plain": [
       "91897"
      ]
     },
     "execution_count": 2,
     "metadata": {},
     "output_type": "execute_result"
    }
   ],
   "source": [
    "len(set(partition.values()))"
   ]
  },
  {
   "cell_type": "markdown",
   "metadata": {},
   "source": [
    "#### Modularity of the partition"
   ]
  },
  {
   "cell_type": "code",
   "execution_count": 3,
   "metadata": {
    "collapsed": false
   },
   "outputs": [
    {
     "data": {
      "text/plain": [
       "0.9177143363372481"
      ]
     },
     "execution_count": 3,
     "metadata": {},
     "output_type": "execute_result"
    }
   ],
   "source": [
    "community.modularity(partition,G)"
   ]
  }
 ],
 "metadata": {
  "kernelspec": {
   "display_name": "Python 2",
   "language": "python",
   "name": "python2"
  },
  "language_info": {
   "codemirror_mode": {
    "name": "ipython",
    "version": 2
   },
   "file_extension": ".py",
   "mimetype": "text/x-python",
   "name": "python",
   "nbconvert_exporter": "python",
   "pygments_lexer": "ipython2",
   "version": "2.7.9"
  }
 },
 "nbformat": 4,
 "nbformat_minor": 0
}
