{
 "cells": [
  {
   "cell_type": "code",
   "execution_count": 1,
   "metadata": {
    "collapsed": true
   },
   "outputs": [],
   "source": [
    "import os\n",
    "import scipy.sparse\n",
    "import sys\n",
    "import sqlite3\n",
    "import time"
   ]
  },
  {
   "cell_type": "code",
   "execution_count": 2,
   "metadata": {
    "collapsed": false
   },
   "outputs": [
    {
     "name": "stdout",
     "output_type": "stream",
     "text": [
      "Initializing program, please wait...\n"
     ]
    }
   ],
   "source": [
    "print \"Initializing program, please wait...\""
   ]
  },
  {
   "cell_type": "markdown",
   "metadata": {},
   "source": [
    "### Read song tid index into a dictionary from database"
   ]
  },
  {
   "cell_type": "code",
   "execution_count": 3,
   "metadata": {
    "collapsed": false
   },
   "outputs": [],
   "source": [
    "index = {}\n",
    "conn = sqlite3.connect(\"songs_index.db\")\n",
    "with conn:\n",
    "    cur = conn.cursor()\n",
    "    cur.execute(\"SELECT tid, idx FROM Songs\")\n",
    "    while True:\n",
    "        song = cur.fetchone()\n",
    "        if not song:\n",
    "            break\n",
    "        index[song[0]]=song[1]\n",
    "conn.close()"
   ]
  },
  {
   "cell_type": "markdown",
   "metadata": {},
   "source": [
    "### Read community partition dictionary"
   ]
  },
  {
   "cell_type": "code",
   "execution_count": 30,
   "metadata": {
    "collapsed": false
   },
   "outputs": [],
   "source": [
    "partition, comm = {}, {}\n",
    "inFile = open('partition.txt')\n",
    "for line in inFile:\n",
    "    fields = line.strip().split(',')\n",
    "    partition[int(fields[0])] = int(fields[1])\n",
    "inFile.close()\n",
    "    \n",
    "for nid,com in partition.iteritems():\n",
    "    if com not in comm:\n",
    "        comm[com] = []\n",
    "    comm[com].append(nid)"
   ]
  },
  {
   "cell_type": "markdown",
   "metadata": {},
   "source": [
    "### Read edge index and weight data (row,col,data) into list for coo_matrix generation "
   ]
  },
  {
   "cell_type": "code",
   "execution_count": 8,
   "metadata": {
    "collapsed": true
   },
   "outputs": [],
   "source": [
    "conn = sqlite3.connect(\"lastfm_similars.db\")\n",
    "row,col,data=[],[],[]\n",
    "\n",
    "with conn:\n",
    "    cur = conn.cursor()\n",
    "    cur.execute(\"SELECT tid, target FROM similars_src\")\n",
    "    while True:\n",
    "        song = cur.fetchone()\n",
    "        if not song:\n",
    "            break\n",
    "        similars = song[1].split(\",\")\n",
    "        row_idx = index[song[0]]\n",
    "        for i in range(0,len(similars),2):\n",
    "            row.append(row_idx)\n",
    "            col.append(index[similars[i]])\n",
    "            data.append(float(similars[i+1]))\n",
    "conn.close()"
   ]
  },
  {
   "cell_type": "markdown",
   "metadata": {},
   "source": [
    "### Calculate the scipy csr format of the transition matrix"
   ]
  },
  {
   "cell_type": "code",
   "execution_count": 9,
   "metadata": {
    "collapsed": false
   },
   "outputs": [],
   "source": [
    "# number of nodes\n",
    "N = len(index)\n",
    "# calculate the graph adjacency matrix as a scipy sparse matrix\n",
    "mtx = scipy.sparse.coo_matrix((data,(row,col)),shape=(N,N))\n",
    "compress = \"csr\"\n",
    "mtx = mtx.asformat(compress)\n",
    "  \n",
    "# normalize the matrix \n",
    "rowSum = scipy.array(mtx.sum(axis=1)).flatten()\n",
    "rowSum[rowSum != 0] = 1./rowSum[rowSum != 0]\n",
    "invDiag = scipy.sparse.spdiags(rowSum.T, 0, N, N, format=compress)\n",
    "mtx = invDiag * mtx\n",
    "# identify sinking nodes index\n",
    "sinking = scipy.where(rowSum == 0)[0]"
   ]
  },
  {
   "cell_type": "markdown",
   "metadata": {},
   "source": [
    "### Personalized PageRank function"
   ]
  },
  {
   "cell_type": "code",
   "execution_count": 77,
   "metadata": {
    "collapsed": false
   },
   "outputs": [],
   "source": [
    "# function to calculate the personalized pagerank by power iteration method using scipy's sparse matrix implementation\n",
    "def PPR(index,mtx,sinking,v=None,alpha=0.85,max_iter=100, tol=1e-6):\n",
    "\n",
    "    \"\"\"\n",
    "    [Parameters]\n",
    "    index: dictionary. tid-index pair of songs\n",
    "    mtx: scipy.sparse.csr.csr_matrix. The transition matrix in scipy csr format.\n",
    "    sinking: numpy.ndarray. Index of songs that has no out edges\n",
    "    seed: list. Seed song indexes\n",
    "\n",
    "    [Return type]\n",
    "    dictionary. songs tid - score pairs\n",
    "    \"\"\"\n",
    "    N = len(index)\n",
    "    \n",
    "    # starting rank\n",
    "    x = scipy.repeat(1./N, N)\n",
    "    \n",
    "    # personalization vector \n",
    "    if v is None:\n",
    "        v = scipy.repeat(1./N, N)\n",
    "    v /= v.sum()\n",
    "\n",
    "    #power iteration:\n",
    "    for _ in xrange(max_iter):\n",
    "        xlast = x\n",
    "        x = alpha*(x*mtx + sum(x[sinking])*v) + (1-alpha)*v\n",
    "        if scipy.absolute(x-xlast).sum() < tol:\n",
    "            #nodes = sorted(index, key=index.get, reverse=False)\n",
    "            #return dict(zip(nodes,x))\n",
    "            scores = {}\n",
    "            for key,value in index.iteritems():\n",
    "                scores[key] = x[value]\n",
    "            return scores\n",
    "    raise RuntimeError('Power iteration failed to converge in %d iterations.' % max_iter)"
   ]
  },
  {
   "cell_type": "markdown",
   "metadata": {},
   "source": [
    "### Map track id to song metadata"
   ]
  },
  {
   "cell_type": "code",
   "execution_count": 75,
   "metadata": {
    "collapsed": true
   },
   "outputs": [],
   "source": [
    "meta = {}\n",
    "inFile = open('unique_tracks.txt')\n",
    "for line in inFile:\n",
    "    fields = line.strip().split('<SEP>')\n",
    "    meta[fields[0]] = fields[2] + ': ' + fields[3]\n",
    "inFile.close()"
   ]
  },
  {
   "cell_type": "markdown",
   "metadata": {},
   "source": [
    "### Generate playlist from a subset of all the songs"
   ]
  },
  {
   "cell_type": "code",
   "execution_count": 100,
   "metadata": {
    "collapsed": false,
    "scrolled": true
   },
   "outputs": [
    {
     "name": "stdout",
     "output_type": "stream",
     "text": [
      "Pick some songs to start your playlist: Britney Spears: Lucky\n",
      "Pick discovery rate from 0 to 1: 0\n",
      "Playlist length: 30\n",
      "Playlist generated in 24.272 seconds\n",
      "Playlist(showing first 20 only)\n",
      "Britney Spears: Lucky\n",
      "Britney Spears: Stronger\n",
      "Britney Spears: Sometimes\n",
      "Britney Spears: Thinkin' About You\n",
      "Britney Spears: The Beat Goes On\n",
      "Christina Aguilera: Not Myself Tonight\n",
      "Britney Spears: E-Mail My Heart\n",
      "Cheryl Cole: Parachute\n",
      "Britney Spears: I Will Be There\n",
      "Britney Spears: I'm A Slave 4 U\n",
      "Cheryl Cole: Fight For This Love\n",
      "Britney Spears: Born To Make You Happy\n",
      "Selena Gomez & The Scene: Naturally\n",
      "Alexandra Burke: Broken Heels\n",
      "Britney Spears: From The Bottom Of My Broken Heart\n",
      "Lindsay Lohan: Rumors\n",
      "Britney Spears: Do Somethin'\n",
      "Britney Spears: Oops!...I Did It Again\n",
      "Britney Spears: Everytime\n",
      "Britney Spears: Soda Pop\n",
      "Sugababes / Gracious K: About A Girl\n",
      "Britney Spears: ...Baby One More Time\n",
      "Kristinia DeBarge: Goodbye\n",
      "Britney Spears: My Prerogative\n",
      "Britney Spears: (You Drive Me) Crazy\n",
      "Pixie Lott: Gravity\n",
      "Britney Spears duet with Don Phillip: I Will Still Love You\n",
      "Hilary Duff: Reach Out\n",
      "Katy Perry: I Kissed A Girl\n",
      "Girls Aloud: Call The Shots\n"
     ]
    }
   ],
   "source": [
    "seed = raw_input(\"Pick some songs to start your playlist: \")\n",
    "#seed = map(int,seed.split(\",\"))\n",
    "\n",
    "seed_raw = seed.strip().split(\";\")\n",
    "seed = []\n",
    "for tid,song in meta.iteritems():\n",
    "    for track in seed_raw:\n",
    "        if song == track:\n",
    "            seed.append(index[tid])\n",
    "if len(seed) != len(seed_raw):\n",
    "    print \"No such song(s)!\"\n",
    "discover_rate = float(input(\"Pick discovery rate from 0 to 1: \"))\n",
    "listLength = int(input(\"Playlist length: \"))\n",
    " \n",
    "t0 = time.time()\n",
    "v = scipy.repeat(discover_rate*0.01/float(N),N)\n",
    "for track in seed:\n",
    "    for song in comm[partition[track]]:\n",
    "        v[song] = 1./N\n",
    "for track in seed:\n",
    "    #v[track] = (N-len(seed)) / float(N) / len(seed)\n",
    "    v[track] = len(comm[partition[track]])/float(N)\n",
    "          \n",
    "rank = PPR(index,mtx,sinking,v)\n",
    "playlist = sorted(rank, key=rank.get, reverse=True)\n",
    "t1 = time.time()\n",
    "scores = [rank[i] for i in playlist]\n",
    "print \"Playlist generated in %.3f seconds\" % (t1-t0)\n",
    "print \"Playlist(showing first 20 only)\"\n",
    "uniList = []\n",
    "i,j = 0,0\n",
    "while i < listLength:\n",
    "    song = meta[playlist[j]]\n",
    "    j += 1\n",
    "    if song not in uniList:\n",
    "        i += 1\n",
    "        uniList.append(song)\n",
    "        print song"
   ]
  },
  {
   "cell_type": "code",
   "execution_count": null,
   "metadata": {
    "collapsed": true
   },
   "outputs": [],
   "source": []
  }
 ],
 "metadata": {
  "kernelspec": {
   "display_name": "Python 2",
   "language": "python",
   "name": "python2"
  },
  "language_info": {
   "codemirror_mode": {
    "name": "ipython",
    "version": 2
   },
   "file_extension": ".py",
   "mimetype": "text/x-python",
   "name": "python",
   "nbconvert_exporter": "python",
   "pygments_lexer": "ipython2",
   "version": "2.7.9"
  }
 },
 "nbformat": 4,
 "nbformat_minor": 0
}
