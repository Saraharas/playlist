{
 "cells": [
  {
   "cell_type": "code",
   "execution_count": 1,
   "metadata": {
    "collapsed": true
   },
   "outputs": [],
   "source": [
    "import os\n",
    "import scipy.sparse\n",
    "import sys\n",
    "import sqlite3\n",
    "import time"
   ]
  },
  {
   "cell_type": "code",
   "execution_count": 2,
   "metadata": {
    "collapsed": false
   },
   "outputs": [
    {
     "name": "stdout",
     "output_type": "stream",
     "text": [
      "Initializing program, please wait...\n"
     ]
    }
   ],
   "source": [
    "print \"Initializing program, please wait...\""
   ]
  },
  {
   "cell_type": "markdown",
   "metadata": {},
   "source": [
    "### Read song tid index into a dictionary from database"
   ]
  },
  {
   "cell_type": "code",
   "execution_count": 3,
   "metadata": {
    "collapsed": false
   },
   "outputs": [],
   "source": [
    "index = {}\n",
    "conn = sqlite3.connect(\"songs_index.db\")\n",
    "with conn:\n",
    "    cur = conn.cursor()\n",
    "    cur.execute(\"SELECT tid, idx FROM Songs\")\n",
    "    while True:\n",
    "        song = cur.fetchone()\n",
    "        if not song:\n",
    "            break\n",
    "        index[song[0]]=song[1]\n",
    "conn.close()"
   ]
  },
  {
   "cell_type": "markdown",
   "metadata": {},
   "source": [
    "### Read edge index and weight data (row,col,data) into list for coo_matrix generation "
   ]
  },
  {
   "cell_type": "code",
   "execution_count": 4,
   "metadata": {
    "collapsed": true
   },
   "outputs": [],
   "source": [
    "conn = sqlite3.connect(\"lastfm_similars.db\")\n",
    "row,col,data=[],[],[]\n",
    "\n",
    "with conn:\n",
    "    cur = conn.cursor()\n",
    "    cur.execute(\"SELECT tid, target FROM similars_src\")\n",
    "    while True:\n",
    "        song = cur.fetchone()\n",
    "        if not song:\n",
    "            break\n",
    "        similars = song[1].split(\",\")\n",
    "        row_idx = index[song[0]]\n",
    "        for i in range(0,len(similars),2):\n",
    "            row.append(row_idx)\n",
    "            col.append(index[similars[i]])\n",
    "            data.append(float(similars[i+1]))\n",
    "conn.close()"
   ]
  },
  {
   "cell_type": "markdown",
   "metadata": {},
   "source": [
    "### Calculate the scipy csr format of the transition matrix"
   ]
  },
  {
   "cell_type": "code",
   "execution_count": 5,
   "metadata": {
    "collapsed": false
   },
   "outputs": [],
   "source": [
    "# number of nodes\n",
    "N = len(index)\n",
    "# calculate the graph adjacency matrix as a scipy sparse matrix\n",
    "mtx = scipy.sparse.coo_matrix((data,(row,col)),shape=(N,N))\n",
    "compress = \"csr\"\n",
    "mtx = mtx.asformat(compress)\n",
    "  \n",
    "# normalize the matrix \n",
    "rowSum = scipy.array(mtx.sum(axis=1)).flatten()\n",
    "rowSum[rowSum != 0] = 1./rowSum[rowSum != 0]\n",
    "invDiag = scipy.sparse.spdiags(rowSum.T, 0, N, N, format=compress)\n",
    "mtx = invDiag * mtx\n",
    "# identify sinking nodes index\n",
    "sinking = scipy.where(rowSum == 0)[0]"
   ]
  },
  {
   "cell_type": "markdown",
   "metadata": {},
   "source": [
    "### Personalized PageRank function"
   ]
  },
  {
   "cell_type": "code",
   "execution_count": 6,
   "metadata": {
    "collapsed": false
   },
   "outputs": [],
   "source": [
    "# function to calculate the personalized pagerank by power iteration method using scipy's sparse matrix implementation\n",
    "def PPR(index,mtx,sinking,alpha=0.85, seed=None ,max_iter=100, tol=1e-6):\n",
    "\n",
    "    \"\"\"\n",
    "    [Parameters]\n",
    "    index: dictionary. tid-index pair of songs\n",
    "    mtx: scipy.sparse.csr.csr_matrix. The transition matrix in scipy csr format.\n",
    "    sinking: numpy.ndarray. Index of songs that has no out edges\n",
    "    seed: list. Seed song indexes\n",
    "\n",
    "    [Return type]\n",
    "    dictionary. songs tid - score pairs\n",
    "    \"\"\"\n",
    "    # starting rank\n",
    "    x = scipy.repeat(1./N, N)\n",
    "    \n",
    "    # personalization vector \n",
    "    if not seed:\n",
    "        v = scipy.repeat(1./N, N)\n",
    "    else:\n",
    "        v = scipy.zeros(N)\n",
    "        v[seed] = 1\n",
    "        v /= v.sum()\n",
    "\n",
    "    #power iteration:\n",
    "    for _ in xrange(max_iter):\n",
    "        xlast = x\n",
    "        x = alpha*(x*mtx + sum(x[sinking])*v) + (1-alpha)*v\n",
    "        if scipy.absolute(x-xlast).sum() < tol:\n",
    "            #nodes = sorted(index, key=index.get, reverse=False)\n",
    "            #return dict(zip(nodes,x))\n",
    "            scores = {}\n",
    "            for k,v in index.items():\n",
    "                scores[k] = x[v]\n",
    "            return scores\n",
    "    raise RuntimeError('Power iteration failed to converge in %d iterations.' % max_iter)"
   ]
  },
  {
   "cell_type": "markdown",
   "metadata": {},
   "source": [
    "### Generate playlist from a subset of all the songs"
   ]
  },
  {
   "cell_type": "code",
   "execution_count": 7,
   "metadata": {
    "collapsed": false
   },
   "outputs": [
    {
     "name": "stdout",
     "output_type": "stream",
     "text": [
      "Pick some songs to start your playlist:10000\n",
      "Playlist generated in 42.952 seconds\n",
      "Playlist(showing first 20 only)\n",
      "[u'TRVBEFW128F42729C8', u'TRYBELE128F427710B', u'TRGDYQU128F1477ABE', u'TRWERAC128F42729AD', u'TRPGERG128F933D02D', u'TRMRLES12903CAA8C5', u'TRHIUQE128F427E268', u'TRFNPHJ128F4272993', u'TRQQSMQ128F1463FE6', u'TRRKDOC128F4250D33', u'TRNIQCP128F4272AEC', u'TROXTOO12903CA143E', u'TRQSHZF128F427A558', u'TRGZAGI128F427EFD3', u'TRNJIMV128E078F834', u'TRISAIU128F930083B', u'TRGKLGS128F146397C', u'TRFKNFE128F427A566', u'TRZKOGR128F1484072', u'TRKZBYL128F427A564']\n"
     ]
    }
   ],
   "source": [
    "seed = raw_input(\"Pick some songs to start your playlist:\")\n",
    "seed = map(int,seed.split(\",\"))\n",
    "listLength = 20\n",
    "t0 = time.time()\n",
    "rank = PPR(index,mtx,sinking,seed=seed)\n",
    "playlist = sorted(rank, key=rank.get, reverse=True)\n",
    "t1 = time.time()\n",
    "scores = [rank[i] for i in playlist]\n",
    "print \"Playlist generated in %.3f seconds\" % (t1-t0)\n",
    "print \"Playlist(showing first 20 only)\"\n",
    "print playlist[:listLength]"
   ]
  }
 ],
 "metadata": {
  "kernelspec": {
   "display_name": "Python 2",
   "language": "python",
   "name": "python2"
  },
  "language_info": {
   "codemirror_mode": {
    "name": "ipython",
    "version": 2
   },
   "file_extension": ".py",
   "mimetype": "text/x-python",
   "name": "python",
   "nbconvert_exporter": "python",
   "pygments_lexer": "ipython2",
   "version": "2.7.9"
  }
 },
 "nbformat": 4,
 "nbformat_minor": 0
}
